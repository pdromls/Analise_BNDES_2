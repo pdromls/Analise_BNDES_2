{
 "cells": [
  {
   "cell_type": "code",
   "execution_count": 2,
   "id": "31a6b049",
   "metadata": {},
   "outputs": [],
   "source": [
    "import pandas as pd\n",
    "\n",
    "ARQ = '../data/raw/operacoes-exportacao-operacoes-de-exportacao-pre-embarque.csv'\n",
    "\n",
    "df = pd.read_csv(ARQ,\n",
    "                sep = ';',\n",
    "                decimal = ',',\n",
    "                encoding = 'latin1'\n",
    ")"
   ]
  },
  {
   "cell_type": "code",
   "execution_count": 3,
   "id": "d8484421",
   "metadata": {},
   "outputs": [
    {
     "data": {
      "text/html": [
       "<div>\n",
       "<style scoped>\n",
       "    .dataframe tbody tr th:only-of-type {\n",
       "        vertical-align: middle;\n",
       "    }\n",
       "\n",
       "    .dataframe tbody tr th {\n",
       "        vertical-align: top;\n",
       "    }\n",
       "\n",
       "    .dataframe thead th {\n",
       "        text-align: right;\n",
       "    }\n",
       "</style>\n",
       "<table border=\"1\" class=\"dataframe\">\n",
       "  <thead>\n",
       "    <tr style=\"text-align: right;\">\n",
       "      <th></th>\n",
       "      <th>cliente</th>\n",
       "      <th>cpf_cnpj</th>\n",
       "      <th>uf</th>\n",
       "      <th>municipio</th>\n",
       "      <th>municipio_codigo</th>\n",
       "      <th>data_da_contratacao</th>\n",
       "      <th>valor_da_operacao_em_reais</th>\n",
       "      <th>valor_desembolsado_em_reais</th>\n",
       "      <th>fonte_de_recurso_desembolsos</th>\n",
       "      <th>modalidade_de_apoio</th>\n",
       "      <th>...</th>\n",
       "      <th>subsetor_cnae_agrupado</th>\n",
       "      <th>subsetor_cnae_codigo</th>\n",
       "      <th>subsetor_cnae_nome</th>\n",
       "      <th>setor_bndes</th>\n",
       "      <th>subsetor_bndes</th>\n",
       "      <th>porte_do_cliente</th>\n",
       "      <th>natureza_do_cliente</th>\n",
       "      <th>instituicao_financeira_credenciada</th>\n",
       "      <th>cnpj_do_agente_financeiro</th>\n",
       "      <th>situacao_da_operacao</th>\n",
       "    </tr>\n",
       "  </thead>\n",
       "  <tbody>\n",
       "    <tr>\n",
       "      <th>0</th>\n",
       "      <td>MINERVA S.A.</td>\n",
       "      <td>**.*20.377/0001-**</td>\n",
       "      <td>SP</td>\n",
       "      <td>BARRETOS</td>\n",
       "      <td>3505500</td>\n",
       "      <td>08/01/2002</td>\n",
       "      <td>7.028.400</td>\n",
       "      <td>7.035.625</td>\n",
       "      <td>RECURSOS LIVRES - FAT</td>\n",
       "      <td>REEMBOLSÁVEL</td>\n",
       "      <td>...</td>\n",
       "      <td>Produtos Alimentícios</td>\n",
       "      <td>C1011200</td>\n",
       "      <td>ABATE DE RESES, EXCETO SUINOS</td>\n",
       "      <td>INDUSTRIA</td>\n",
       "      <td>ALIMENTO E BEBIDA</td>\n",
       "      <td>GRANDE</td>\n",
       "      <td>PRIVADA</td>\n",
       "      <td>BOSTON NEGOCIOS E PARTICIPACOES LTDA.</td>\n",
       "      <td>33.140.666.0001-02</td>\n",
       "      <td>LIQUIDADA</td>\n",
       "    </tr>\n",
       "    <tr>\n",
       "      <th>1</th>\n",
       "      <td>MINERVA S.A.</td>\n",
       "      <td>**.*20.377/0001-**</td>\n",
       "      <td>SP</td>\n",
       "      <td>BARRETOS</td>\n",
       "      <td>3505500</td>\n",
       "      <td>08/01/2002</td>\n",
       "      <td>7.028.400</td>\n",
       "      <td>7.035.625</td>\n",
       "      <td>RECURSOS LIVRES - FAT</td>\n",
       "      <td>REEMBOLSÁVEL</td>\n",
       "      <td>...</td>\n",
       "      <td>Produtos Alimentícios</td>\n",
       "      <td>C1011200</td>\n",
       "      <td>ABATE DE RESES, EXCETO SUINOS</td>\n",
       "      <td>INDUSTRIA</td>\n",
       "      <td>ALIMENTO E BEBIDA</td>\n",
       "      <td>GRANDE</td>\n",
       "      <td>PRIVADA</td>\n",
       "      <td>BOSTON NEGOCIOS E PARTICIPACOES LTDA.</td>\n",
       "      <td>33.140.666.0001-02</td>\n",
       "      <td>LIQUIDADA</td>\n",
       "    </tr>\n",
       "    <tr>\n",
       "      <th>2</th>\n",
       "      <td>FRUTIVITA S/A</td>\n",
       "      <td>**.*09.838/0001-**</td>\n",
       "      <td>PE</td>\n",
       "      <td>PETROLINA</td>\n",
       "      <td>2611101</td>\n",
       "      <td>09/01/2002</td>\n",
       "      <td>485.967</td>\n",
       "      <td>486.416</td>\n",
       "      <td>RECURSOS LIVRES - FAT</td>\n",
       "      <td>REEMBOLSÁVEL</td>\n",
       "      <td>...</td>\n",
       "      <td>Agropecuária</td>\n",
       "      <td>A0119900</td>\n",
       "      <td>CULT PLANTAS LAVOURA TEMPORARIA NAO ESPECIFICA...</td>\n",
       "      <td>AGROPECUÁRIA</td>\n",
       "      <td>AGROPECUÁRIA</td>\n",
       "      <td>PEQUENA</td>\n",
       "      <td>PRIVADA</td>\n",
       "      <td>BANCO BRADESCO FINANCIAMENTOS S.A.</td>\n",
       "      <td>07.207.996.0001-50</td>\n",
       "      <td>LIQUIDADA</td>\n",
       "    </tr>\n",
       "    <tr>\n",
       "      <th>3</th>\n",
       "      <td>MINERVA S.A.</td>\n",
       "      <td>**.*20.377/0001-**</td>\n",
       "      <td>SP</td>\n",
       "      <td>BARRETOS</td>\n",
       "      <td>3505500</td>\n",
       "      <td>10/01/2002</td>\n",
       "      <td>4.758.800</td>\n",
       "      <td>4.765.159</td>\n",
       "      <td>RECURSOS LIVRES - FAT</td>\n",
       "      <td>REEMBOLSÁVEL</td>\n",
       "      <td>...</td>\n",
       "      <td>Produtos Alimentícios</td>\n",
       "      <td>C1011200</td>\n",
       "      <td>ABATE DE RESES, EXCETO SUINOS</td>\n",
       "      <td>INDUSTRIA</td>\n",
       "      <td>ALIMENTO E BEBIDA</td>\n",
       "      <td>GRANDE</td>\n",
       "      <td>PRIVADA</td>\n",
       "      <td>ITAU UNIBANCO S.A.</td>\n",
       "      <td>60.701.190.0001-04</td>\n",
       "      <td>LIQUIDADA</td>\n",
       "    </tr>\n",
       "    <tr>\n",
       "      <th>4</th>\n",
       "      <td>CALCADOS CHICARONI LTDA</td>\n",
       "      <td>**.*51.979/0001-**</td>\n",
       "      <td>SP</td>\n",
       "      <td>FRANCA</td>\n",
       "      <td>3516200</td>\n",
       "      <td>10/01/2002</td>\n",
       "      <td>120.469</td>\n",
       "      <td>120.618</td>\n",
       "      <td>RECURSOS LIVRES - FAT</td>\n",
       "      <td>REEMBOLSÁVEL</td>\n",
       "      <td>...</td>\n",
       "      <td>Couro, artefato e calçado</td>\n",
       "      <td>C1530000</td>\n",
       "      <td>FABRICACAO DE CALCADOS</td>\n",
       "      <td>INDUSTRIA</td>\n",
       "      <td>OUTRAS</td>\n",
       "      <td>MÉDIA</td>\n",
       "      <td>PRIVADA</td>\n",
       "      <td>BANCO FIBRA SA</td>\n",
       "      <td>58.616.418.0001-08</td>\n",
       "      <td>LIQUIDADA</td>\n",
       "    </tr>\n",
       "  </tbody>\n",
       "</table>\n",
       "<p>5 rows × 26 columns</p>\n",
       "</div>"
      ],
      "text/plain": [
       "                   cliente            cpf_cnpj   uf  municipio  \\\n",
       "0             MINERVA S.A.  **.*20.377/0001-**   SP   BARRETOS   \n",
       "1             MINERVA S.A.  **.*20.377/0001-**   SP   BARRETOS   \n",
       "2            FRUTIVITA S/A  **.*09.838/0001-**   PE  PETROLINA   \n",
       "3             MINERVA S.A.  **.*20.377/0001-**   SP   BARRETOS   \n",
       "4  CALCADOS CHICARONI LTDA  **.*51.979/0001-**   SP     FRANCA   \n",
       "\n",
       "   municipio_codigo data_da_contratacao valor_da_operacao_em_reais  \\\n",
       "0           3505500          08/01/2002                  7.028.400   \n",
       "1           3505500          08/01/2002                  7.028.400   \n",
       "2           2611101          09/01/2002                    485.967   \n",
       "3           3505500          10/01/2002                  4.758.800   \n",
       "4           3516200          10/01/2002                    120.469   \n",
       "\n",
       "  valor_desembolsado_em_reais fonte_de_recurso_desembolsos  \\\n",
       "0                   7.035.625        RECURSOS LIVRES - FAT   \n",
       "1                   7.035.625        RECURSOS LIVRES - FAT   \n",
       "2                     486.416        RECURSOS LIVRES - FAT   \n",
       "3                   4.765.159        RECURSOS LIVRES - FAT   \n",
       "4                     120.618        RECURSOS LIVRES - FAT   \n",
       "\n",
       "  modalidade_de_apoio  ...     subsetor_cnae_agrupado subsetor_cnae_codigo  \\\n",
       "0        REEMBOLSÁVEL  ...      Produtos Alimentícios             C1011200   \n",
       "1        REEMBOLSÁVEL  ...      Produtos Alimentícios             C1011200   \n",
       "2        REEMBOLSÁVEL  ...               Agropecuária             A0119900   \n",
       "3        REEMBOLSÁVEL  ...      Produtos Alimentícios             C1011200   \n",
       "4        REEMBOLSÁVEL  ...  Couro, artefato e calçado             C1530000   \n",
       "\n",
       "                                  subsetor_cnae_nome   setor_bndes  \\\n",
       "0                      ABATE DE RESES, EXCETO SUINOS     INDUSTRIA   \n",
       "1                      ABATE DE RESES, EXCETO SUINOS     INDUSTRIA   \n",
       "2  CULT PLANTAS LAVOURA TEMPORARIA NAO ESPECIFICA...  AGROPECUÁRIA   \n",
       "3                      ABATE DE RESES, EXCETO SUINOS     INDUSTRIA   \n",
       "4                             FABRICACAO DE CALCADOS     INDUSTRIA   \n",
       "\n",
       "      subsetor_bndes porte_do_cliente natureza_do_cliente  \\\n",
       "0  ALIMENTO E BEBIDA           GRANDE             PRIVADA   \n",
       "1  ALIMENTO E BEBIDA           GRANDE             PRIVADA   \n",
       "2       AGROPECUÁRIA          PEQUENA             PRIVADA   \n",
       "3  ALIMENTO E BEBIDA           GRANDE             PRIVADA   \n",
       "4             OUTRAS            MÉDIA             PRIVADA   \n",
       "\n",
       "      instituicao_financeira_credenciada cnpj_do_agente_financeiro  \\\n",
       "0  BOSTON NEGOCIOS E PARTICIPACOES LTDA.        33.140.666.0001-02   \n",
       "1  BOSTON NEGOCIOS E PARTICIPACOES LTDA.        33.140.666.0001-02   \n",
       "2     BANCO BRADESCO FINANCIAMENTOS S.A.        07.207.996.0001-50   \n",
       "3                     ITAU UNIBANCO S.A.        60.701.190.0001-04   \n",
       "4                         BANCO FIBRA SA        58.616.418.0001-08   \n",
       "\n",
       "  situacao_da_operacao  \n",
       "0            LIQUIDADA  \n",
       "1            LIQUIDADA  \n",
       "2            LIQUIDADA  \n",
       "3            LIQUIDADA  \n",
       "4            LIQUIDADA  \n",
       "\n",
       "[5 rows x 26 columns]"
      ]
     },
     "execution_count": 3,
     "metadata": {},
     "output_type": "execute_result"
    }
   ],
   "source": [
    "df.head()"
   ]
  },
  {
   "cell_type": "code",
   "execution_count": 4,
   "id": "d6a84a2c",
   "metadata": {},
   "outputs": [
    {
     "name": "stdout",
     "output_type": "stream",
     "text": [
      "O dataset possui 7252 linhas e 26 colunas.\n"
     ]
    }
   ],
   "source": [
    "print(f'O dataset possui {df.shape[0]} linhas e {df.shape[1]} colunas.')"
   ]
  },
  {
   "cell_type": "code",
   "execution_count": 5,
   "id": "34f9b590",
   "metadata": {},
   "outputs": [
    {
     "name": "stdout",
     "output_type": "stream",
     "text": [
      "<class 'pandas.core.frame.DataFrame'>\n",
      "RangeIndex: 7252 entries, 0 to 7251\n",
      "Data columns (total 26 columns):\n",
      " #   Column                              Non-Null Count  Dtype \n",
      "---  ------                              --------------  ----- \n",
      " 0   cliente                             7252 non-null   object\n",
      " 1   cpf_cnpj                            7252 non-null   object\n",
      " 2   uf                                  7252 non-null   object\n",
      " 3   municipio                           7252 non-null   object\n",
      " 4   municipio_codigo                    7252 non-null   int64 \n",
      " 5   data_da_contratacao                 7252 non-null   object\n",
      " 6   valor_da_operacao_em_reais          7252 non-null   object\n",
      " 7   valor_desembolsado_em_reais         7237 non-null   object\n",
      " 8   fonte_de_recurso_desembolsos        7252 non-null   object\n",
      " 9   modalidade_de_apoio                 7252 non-null   object\n",
      " 10  forma_de_apoio                      7252 non-null   object\n",
      " 11  produto                             7252 non-null   object\n",
      " 12  instrumento_financeiro              7252 non-null   object\n",
      " 13  inovacao                            7252 non-null   object\n",
      " 14  area_operacional                    7252 non-null   object\n",
      " 15  setor_cnae                          7252 non-null   object\n",
      " 16  subsetor_cnae_agrupado              7252 non-null   object\n",
      " 17  subsetor_cnae_codigo                7252 non-null   object\n",
      " 18  subsetor_cnae_nome                  7252 non-null   object\n",
      " 19  setor_bndes                         7252 non-null   object\n",
      " 20  subsetor_bndes                      7252 non-null   object\n",
      " 21  porte_do_cliente                    7252 non-null   object\n",
      " 22  natureza_do_cliente                 7252 non-null   object\n",
      " 23  instituicao_financeira_credenciada  7252 non-null   object\n",
      " 24  cnpj_do_agente_financeiro           7252 non-null   object\n",
      " 25  situacao_da_operacao                7252 non-null   object\n",
      "dtypes: int64(1), object(25)\n",
      "memory usage: 1.4+ MB\n"
     ]
    }
   ],
   "source": [
    "df.info()"
   ]
  },
  {
   "cell_type": "code",
   "execution_count": 99,
   "id": "ecc6bb9e",
   "metadata": {},
   "outputs": [
    {
     "name": "stdout",
     "output_type": "stream",
     "text": [
      "\n",
      "Nulos após a conversão: 0\n"
     ]
    }
   ],
   "source": [
    "df['data_da_contratacao'] = pd.to_datetime(df['data_da_contratacao'], dayfirst=True, errors='coerce')\n",
    "\n",
    "nulos = df['data_da_contratacao'].isnull().sum()\n",
    "print(f\"\\nNulos após a conversão: {nulos}\")"
   ]
  },
  {
   "cell_type": "code",
   "execution_count": 100,
   "id": "30f82173",
   "metadata": {},
   "outputs": [
    {
     "name": "stdout",
     "output_type": "stream",
     "text": [
      "\n",
      "Nulos em valor operação após a conversão: 0\n",
      "\n",
      "Nulos em valor desembolsado após a conversão: 15\n"
     ]
    }
   ],
   "source": [
    "colunas_valor = ['valor_da_operacao_em_reais', 'valor_desembolsado_em_reais']\n",
    "for coluna in colunas_valor:\n",
    "    if df[coluna].dtype == 'object':\n",
    "        df[coluna] = df[coluna].str.replace('.', '', regex=False).str.replace(',', '.', regex=False).str.replace('R$', '', regex=False).str.strip()\n",
    "        df[coluna] = pd.to_numeric(df[coluna], errors='coerce')\n",
    "\n",
    "nulos_valor_operacao = df['valor_da_operacao_em_reais'].isnull().sum()\n",
    "print(f\"\\nNulos em valor operação após a conversão: {nulos_valor_operacao}\")\n",
    "\n",
    "nulos_valor_desembolsado = df['valor_desembolsado_em_reais'].isnull().sum()\n",
    "print(f\"\\nNulos em valor desembolsado após a conversão: {nulos_valor_desembolsado}\")"
   ]
  },
  {
   "cell_type": "code",
   "execution_count": 101,
   "id": "a3771a31",
   "metadata": {},
   "outputs": [
    {
     "name": "stdout",
     "output_type": "stream",
     "text": [
      "\n",
      "Nulos em valor desembolsado: 0\n"
     ]
    }
   ],
   "source": [
    "# Por serem poucas linhas com valores nulos, vamos removê-las\n",
    "df = df.dropna(subset=['valor_desembolsado_em_reais'])\n",
    "nulos_valor_desembolsado = df['valor_desembolsado_em_reais'].isnull().sum()\n",
    "print(f\"\\nNulos em valor desembolsado: {nulos_valor_desembolsado}\")"
   ]
  },
  {
   "cell_type": "code",
   "execution_count": 102,
   "id": "839c3ae7",
   "metadata": {},
   "outputs": [
    {
     "name": "stdout",
     "output_type": "stream",
     "text": [
      "Tamanho após drop_duplicates(): 7189 linhas\n"
     ]
    }
   ],
   "source": [
    "df = df.drop_duplicates()\n",
    "\n",
    "print(f\"Tamanho após drop_duplicates(): {len(df)} linhas\")"
   ]
  },
  {
   "cell_type": "code",
   "execution_count": 103,
   "id": "b16cc57e",
   "metadata": {},
   "outputs": [
    {
     "name": "stdout",
     "output_type": "stream",
     "text": [
      "\n",
      "Base salva em formato Pickle em: ../data/processed/op-exp-pre-embarque.pickle\n"
     ]
    }
   ],
   "source": [
    "# Salvando o DataFrame limpo em formato Pickle para manter a integridade dos dados\n",
    "caminho_pickle = '../data/processed/op-exp-pre-embarque.pickle'\n",
    "\n",
    "df.to_pickle(caminho_pickle)\n",
    "\n",
    "print(f\"\\nBase salva em formato Pickle em: {caminho_pickle}\")"
   ]
  }
 ],
 "metadata": {
  "kernelspec": {
   "display_name": "venv (3.13.7)",
   "language": "python",
   "name": "python3"
  },
  "language_info": {
   "codemirror_mode": {
    "name": "ipython",
    "version": 3
   },
   "file_extension": ".py",
   "mimetype": "text/x-python",
   "name": "python",
   "nbconvert_exporter": "python",
   "pygments_lexer": "ipython3",
   "version": "3.13.7"
  }
 },
 "nbformat": 4,
 "nbformat_minor": 5
}
